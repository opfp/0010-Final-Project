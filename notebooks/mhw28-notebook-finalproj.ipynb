{
 "cells": [
  {
   "cell_type": "markdown",
   "metadata": {},
   "source": [
    "# Final Project Notebook - Michael Wang\n",
    "\n",
    "## Dataset\n",
    "\n",
    "I found the dataset for right of way permits given out to each neighborhood. Right of way permits are essentially permits for companies and other entities to initiate construction in a public area. Since we chose our overall metric to be travel ability, right of way permits would slow down traffic and lessen travel ability as they precede closed roads and detours caused by construction.\n",
    "\n",
    "The original dataset had a large amount of unnecessary and irrelevant data, so using pandas, I cut out all the useless columns. Then I used pandas to essentially count how many right of way permits there were in each neighborhood, and then turned it into one csv file.\n",
    "\n",
    "I used Owen's uid system and ordered the data and coded it.\n",
    "\n",
    "## Deciding on the best neighborhood\n",
    "\n",
    "Using all 3 data sets, I organized each dataset into our requirements and gave each neighborhood points based on their ranking. (sorted by least to most permits, by least to most traffic, and by most to least bus stops.) For the points an example would be the neighborhood with the most bus stops gets 1 pt, the 2nd most bus stops gets 2 pts, etc. I then added up the total points of each neighborhood based on their rankings and the neighborhood with the least amount of points (Lincoln-Lemington-Belmar)\n",
    "\n",
    "## The pandas code is below:"
   ]
  },
  {
   "cell_type": "code",
   "execution_count": null,
   "metadata": {},
   "outputs": [],
   "source": [
    "import pandas as pd\n",
    "\n",
    "data = pd.read_csv('Right of Way Permits.csv')\n",
    "\n",
    "data.pop('id')\n",
    "data.pop('sequence')\n",
    "data.pop('open_date')\n",
    "data.pop('from_date')\n",
    "data.pop('to_date')\n",
    "data.pop('restoration_date')\n",
    "data.pop('address')\n",
    "data.pop('street_or_location')\n",
    "data.pop('type')\n",
    "data.pop('from_street')\n",
    "data.pop('to_street')\n",
    "data.pop('business_name')\n",
    "data.pop('license_type')\n",
    "data.pop('council_district')\n",
    "data.pop('ward')\n",
    "data.pop('tract')\n",
    "data.pop('public_works_division')\n",
    "data.pop('address_lat')\n",
    "data.pop('address_lon')\n",
    "data.pop('from_lat')\n",
    "data.pop('from_lon')\n",
    "data.pop('to_lat')\n",
    "data.pop('to_lon')\n",
    "\n",
    "dict = {}\n",
    "for ind in data.index:\n",
    "    if data['neighborhood'][ind] not in dict:\n",
    "        dict[data['neighborhood'][ind]] = 0 \n",
    "    dict[data['neighborhood'][ind]] += 1\n",
    "\n",
    "for key, value in dict.items() :\n",
    "    print (key, value)\n",
    "\n",
    "finaldf = pd.DataFrame(dict.items(), columns=['neighborhood', 'right of way permits'])\n",
    "print (finaldf)\n",
    "\n",
    "finaldf.to_csv('/Users/abjures/Desktop/final_right_of_way_permits.csv')"
   ]
  }
 ],
 "metadata": {
  "kernelspec": {
   "display_name": "Python 3",
   "language": "python",
   "name": "python3"
  },
  "language_info": {
   "codemirror_mode": {
    "name": "ipython",
    "version": 3
   },
   "file_extension": ".py",
   "mimetype": "text/x-python",
   "name": "python",
   "nbconvert_exporter": "python",
   "pygments_lexer": "ipython3",
   "version": "3.8.3"
  }
 },
 "nbformat": 4,
 "nbformat_minor": 4
}
